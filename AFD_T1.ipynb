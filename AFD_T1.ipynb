{
 "cells": [
  {
   "cell_type": "markdown",
   "id": "134711ed",
   "metadata": {},
   "source": [
    "Implementação de um Autômato Finito Determinístico (AFD)"
   ]
  },
  {
   "cell_type": "markdown",
   "id": "1fdfe856",
   "metadata": {},
   "source": [
    "abaixo estão os estados que serão armazenados como lista, \n",
    "em conjunto com o numero de tansições"
   ]
  },
  {
   "cell_type": "code",
   "execution_count": null,
   "id": "149249c4",
   "metadata": {},
   "outputs": [],
   "source": [
    "condition = input().split(\" \")\n",
    "simbalf = input().split(\" \")\n",
    "qtrans = int(input())"
   ]
  },
  {
   "cell_type": "markdown",
   "id": "f2132c53",
   "metadata": {},
   "source": [
    "Tabela hash como estrutura de dados. Ela armazena um par chave valor, possuindo complexidade de busca O(1)"
   ]
  },
  {
   "cell_type": "code",
   "execution_count": null,
   "id": "bd00253e",
   "metadata": {},
   "outputs": [],
   "source": [
    "afd = {}"
   ]
  },
  {
   "cell_type": "markdown",
   "id": "535b7304",
   "metadata": {},
   "source": [
    "Em cada AFD temos a chave na tabela hash e foram adicionadas as entradas das transições para cada estado, sendo i, c e f respectivamente,estado de origem, caractere e estado de destino."
   ]
  },
  {
   "cell_type": "code",
   "execution_count": null,
   "id": "46383eca",
   "metadata": {},
   "outputs": [],
   "source": [
    "for state in condition:\n",
    "    afd[state] = {}\n",
    "\n",
    "for i in range(0, qtrans):\n",
    "    i, c, f = input().split(\" \")\n",
    "    if c not in afd[i]:\n",
    "      afd[i][c] = f"
   ]
  },
  {
   "cell_type": "markdown",
   "id": "bbfcae2b",
   "metadata": {},
   "source": [
    "Entradas que representam o estado inicial, lista de estados finais e as palavras a serem reconhecidas"
   ]
  },
  {
   "cell_type": "code",
   "execution_count": null,
   "id": "b72da7f3",
   "metadata": {},
   "outputs": [],
   "source": [
    "inicial_state = input()\n",
    "final_state = input().split(\" \")\n",
    "words = input().split(\" \")"
   ]
  },
  {
   "cell_type": "markdown",
   "id": "8a0ac887",
   "metadata": {},
   "source": [
    "A celula abaixo representa o algoritimo responsavel por reconhecer(ou não) palavras a partir do AFD especificado nos passos anteriores.\n",
    "o algoritimo percorre caractere por caractere até terminar a palavra,após isso ele verifica se existe transição no actual_state(estado atual). Essa verificação é feita com acesso em duas tabelas hash (com complexidade O(n), onde n é o tamanho da palavra).\n",
    "Caso exista transição há a redefinição do estado atual, caso não exista o AFD efetua a transição para o estado de erro.\n",
    "Ao final é verificado se o estado atual é o final ou o de erro, retornando \"S\" se for verdade e \"N\" caso não seja."
   ]
  },
  {
   "cell_type": "code",
   "execution_count": null,
   "id": "94427eee",
   "metadata": {},
   "outputs": [],
   "source": [
    "for word in words:\n",
    "    actual_state = inicial_state\n",
    "    error_state = 0\n",
    "    for char in word:\n",
    "        try:\n",
    "            actual_state = afd[actual_state][char]\n",
    "        except KeyError:\n",
    "            error_state = 1\n",
    "            break\n",
    "    if(error_state == 1 or actual_state not in final_state):\n",
    "        print('N')\n",
    "    else:\n",
    "        print('S')"
   ]
  }
 ],
 "metadata": {
  "kernelspec": {
   "display_name": "Python 3 (ipykernel)",
   "language": "python",
   "name": "python3"
  },
  "language_info": {
   "codemirror_mode": {
    "name": "ipython",
    "version": 3
   },
   "file_extension": ".py",
   "mimetype": "text/x-python",
   "name": "python",
   "nbconvert_exporter": "python",
   "pygments_lexer": "ipython3",
   "version": "3.9.7"
  }
 },
 "nbformat": 4,
 "nbformat_minor": 5
}
